{
  "nbformat": 4,
  "nbformat_minor": 0,
  "metadata": {
    "kernelspec": {
      "display_name": "Python 3",
      "language": "python",
      "name": "python3"
    },
    "language_info": {
      "codemirror_mode": {
        "name": "ipython",
        "version": 3
      },
      "file_extension": ".py",
      "mimetype": "text/x-python",
      "name": "python",
      "nbconvert_exporter": "python",
      "pygments_lexer": "ipython3",
      "version": "3.5.2"
    },
    "colab": {
      "provenance": [],
      "collapsed_sections": [],
      "include_colab_link": true
    }
  },
  "cells": [
    {
      "cell_type": "markdown",
      "metadata": {
        "id": "view-in-github",
        "colab_type": "text"
      },
      "source": [
        "<a href=\"https://colab.research.google.com/github/NguyenQuocDat-Mechatronic/GItML_std/blob/main/MLP302_VN_Lab_3.ipynb\" target=\"_parent\"><img src=\"https://colab.research.google.com/assets/colab-badge.svg\" alt=\"Open In Colab\"/></a>"
      ]
    },
    {
      "cell_type": "markdown",
      "metadata": {
        "id": "-tZq1hXCXmYn"
      },
      "source": [
        "# Đánh giá khớp (Hồi quy đa thức)"
      ]
    },
    {
      "cell_type": "markdown",
      "metadata": {
        "id": "N3r8GEwtXmYs"
      },
      "source": [
        "Trong notebook này, chúng ta sẽ so sánh các mô hình hồi quy khác nhau để đánh giá xem mô hình nào khớp nhất. Chúng ta sẽ sử dụng hồi quy đa thức để xem xét chủ đề này. Cụ thể, chúng ta sẽ:\n",
        "* Viết hàm nhận một đặc trưng đơn lẻ (trong mảng Numpy/Series) và một bậc, trả về một DataFrame có từng cột là đặc trưng tới giá trị đa thức lên tới tổng bậc, chẳng hạn: bậc = 3 thì cột 1 là đặc trưng ban đầu, cột 2 là đặc trưng bình phương và cột 3 là đặc trưng lập phương.\n",
        "* Sử dụng matplotlib để trực quan hóa hồi quy đa thức.\n",
        "* Sử dụng matplotlib để trực quan hóa cùng bậc đa thức trong cùng một tập con dữ liệu.\n",
        "* Sử dụng tập kiểm định để chọn bậc đa thức.\n",
        "* Đánh giá khớp cuối cùng sử dụng dữ liệu kiểm tra.\n",
        "\n",
        "Chúng ta vẫn sử dụng dữ liệu nhà ở từ notebook trước."
      ]
    },
    {
      "cell_type": "markdown",
      "metadata": {
        "id": "RMGCkP2yXmYw"
      },
      "source": [
        "## Thư viện"
      ]
    },
    {
      "cell_type": "code",
      "metadata": {
        "id": "s52LRfPqXmZI"
      },
      "source": [
        "import sklearn\n",
        "import pandas\n",
        "import numpy as np"
      ],
      "execution_count": null,
      "outputs": []
    },
    {
      "cell_type": "code",
      "source": [
        "from google.colab import drive\n",
        "drive.mount('/content/drive')"
      ],
      "metadata": {
        "colab": {
          "base_uri": "https://localhost:8080/"
        },
        "id": "W-WEOVJmaI06",
        "outputId": "179d7e27-ee95-4cdf-de1a-c469bc05a504"
      },
      "execution_count": null,
      "outputs": [
        {
          "output_type": "stream",
          "name": "stdout",
          "text": [
            "Drive already mounted at /content/drive; to attempt to forcibly remount, call drive.mount(\"/content/drive\", force_remount=True).\n"
          ]
        }
      ]
    },
    {
      "cell_type": "markdown",
      "metadata": {
        "id": "yViY6sRuXmZN"
      },
      "source": [
        "Tiếp theo, chúng ta sẽ viết hàm đa thức nhận một đặc trưng và một bậc cực đại, trả về DataFrame chứa tất cả các lũy thừa của đặc trưng cho đến bậc cực đại.\n",
        "\n",
        "Cách đơn giản nhất để vận dụng lũy thừa vào một Series là sử dụng các hàm `.apply` và `lambda x:`. Tuy nhiên, mảng Numpy chỉ có thể thực hiện nó dễ dàng với các phép số học đơn giản; nếu không, nó sẽ yêu cầu `np.vectorize` khó hiểu hơn. Ví dụ để lấy mảng mock và tính lũy thừa bậc ba, chúng ta có thể làm như sau: "
      ]
    },
    {
      "cell_type": "code",
      "metadata": {
        "id": "JRIJWduZXmZQ",
        "outputId": "6e2bff19-c101-4a35-8395-d174e0df1f92",
        "colab": {
          "base_uri": "https://localhost:8080/"
        }
      },
      "source": [
        "mock = np.array([1., 2., 3.])\n",
        "mock_series = pandas.Series(mock)\n",
        "mock_cubed = mock ** 3\n",
        "mock_cubed_long = np.vectorize(lambda x: x ** 3)(mock)\n",
        "mock_series_cubed = mock_series.apply(lambda x: x ** 3)\n",
        "print(mock, mock_cubed, mock_cubed_long)\n",
        "print('----')\n",
        "print(mock_series, \"\\n\", mock_series_cubed)"
      ],
      "execution_count": null,
      "outputs": [
        {
          "output_type": "stream",
          "name": "stdout",
          "text": [
            "[1. 2. 3.] [ 1.  8. 27.] [ 1.  8. 27.]\n",
            "----\n",
            "0    1.0\n",
            "1    2.0\n",
            "2    3.0\n",
            "dtype: float64 \n",
            " 0     1.0\n",
            "1     8.0\n",
            "2    27.0\n",
            "dtype: float64\n"
          ]
        }
      ]
    },
    {
      "cell_type": "markdown",
      "metadata": {
        "id": "lmALtseEXmZW"
      },
      "source": [
        "Chúng ta có thể tạo một DataFrame trống sử dụng `pandas.DataFrame()`, sau đó thêm bất kỳ cột nào vào đó với `dataframe['column_name'] = value`. Chẳng hạn, chúng ta tạo một DataFrame trống và đặt cột 'power_1' là lũy thừa bậc một của giá trị mock."
      ]
    },
    {
      "cell_type": "code",
      "metadata": {
        "id": "_nOOjdsaXmZY",
        "outputId": "2fd10471-b732-4369-addf-6853873a174e",
        "colab": {
          "base_uri": "https://localhost:8080/"
        }
      },
      "source": [
        "data = pandas.DataFrame()\n",
        "data['power_1'] = mock\n",
        "print(data)"
      ],
      "execution_count": null,
      "outputs": [
        {
          "output_type": "stream",
          "name": "stdout",
          "text": [
            "   power_1\n",
            "0      1.0\n",
            "1      2.0\n",
            "2      3.0\n"
          ]
        }
      ]
    },
    {
      "cell_type": "markdown",
      "metadata": {
        "id": "U5_oDv59XmZc"
      },
      "source": [
        "## Hàm `polynomial_dataframe` "
      ]
    },
    {
      "cell_type": "markdown",
      "metadata": {
        "id": "g5Fa_V7tXmZd"
      },
      "source": [
        "Sử dụng các gợi ý phía trên để hoàn thiện hàm sau: "
      ]
    },
    {
      "cell_type": "code",
      "metadata": {
        "id": "QejpEAagXmZf"
      },
      "source": [
        "def polynomial_dataframe(feature, degree):\n",
        "    # giả sử bậc >= 1\n",
        "    # khởi tạo DataFrame:\n",
        "    poly_data = pandas.DataFrame()\n",
        "    # và đặt poly_data['power_1'] bằng với đặc trưng đã truyền vào\n",
        "    poly_data['power_1'] = feature\n",
        "    # trước tiên kiểm tra xem bậc có lớn hơn 1 không\n",
        "    if degree > 1:\n",
        "        # thì lặp qua các bậc còn lại: \n",
        "        # range thường bắt đầu range từ 0 và kết thúc ở đầu cuối -1. Chúng ta cần nó bắt đầu từ 2 và ngừng ở bậc\n",
        "        for power in range(2, degree+1): \n",
        "            # trước tiên đặt tên cột:\n",
        "            name = 'power_' + str(power)\n",
        "            # sau đó gán poly_sframe[name] cho lũy thừa thích hợp của đặc trưng\n",
        "            poly_data[name] = poly_data['power_1']**power\n",
        "    return poly_data"
      ],
      "execution_count": null,
      "outputs": []
    },
    {
      "cell_type": "markdown",
      "metadata": {
        "id": "EFEXKbksXmZi"
      },
      "source": [
        "Kiểm tra hàm với biến **mock** và kết quả dự kiến của cell sau:"
      ]
    },
    {
      "cell_type": "code",
      "metadata": {
        "id": "uJX0srA8XmZk",
        "outputId": "f15d864b-6ddc-4120-aaf0-866e20c5fd38",
        "colab": {
          "base_uri": "https://localhost:8080/"
        }
      },
      "source": [
        "print(polynomial_dataframe(mock, 3))"
      ],
      "execution_count": null,
      "outputs": [
        {
          "output_type": "stream",
          "name": "stdout",
          "text": [
            "   power_1  power_2  power_3\n",
            "0      1.0      1.0      1.0\n",
            "1      2.0      4.0      8.0\n",
            "2      3.0      9.0     27.0\n"
          ]
        }
      ]
    },
    {
      "cell_type": "markdown",
      "metadata": {
        "id": "ahg2DtorXmZm"
      },
      "source": [
        "# Trực quan hóa hồi quy đa thức"
      ]
    },
    {
      "cell_type": "markdown",
      "metadata": {
        "id": "bDMXYr61XmZn"
      },
      "source": [
        "Sử dụng matplotlib để hiển thị hồi quy đa thức trông như thế nào trong dữ liệu thực."
      ]
    },
    {
      "cell_type": "code",
      "metadata": {
        "id": "swewnTKdXmZo",
        "colab": {
          "base_uri": "https://localhost:8080/"
        },
        "outputId": "3137d223-6d53-42cd-cf77-164390d82f01"
      },
      "source": [
        "full_data = pandas.read_csv(\"/content/drive/MyDrive/Colab Notebooks/MLP302/kc_house_data.csv\", index_col=0)\n",
        "print(full_data.head())"
      ],
      "execution_count": null,
      "outputs": [
        {
          "output_type": "stream",
          "name": "stdout",
          "text": [
            "                       date     price  bedrooms  bathrooms  sqft_living  \\\n",
            "id                                                                        \n",
            "7129300520  20141013T000000  221900.0         3       1.00         1180   \n",
            "6414100192  20141209T000000  538000.0         3       2.25         2570   \n",
            "5631500400  20150225T000000  180000.0         2       1.00          770   \n",
            "2487200875  20141209T000000  604000.0         4       3.00         1960   \n",
            "1954400510  20150218T000000  510000.0         3       2.00         1680   \n",
            "\n",
            "            sqft_lot  floors  waterfront  view  condition  grade  sqft_above  \\\n",
            "id                                                                             \n",
            "7129300520      5650     1.0           0     0          3      7        1180   \n",
            "6414100192      7242     2.0           0     0          3      7        2170   \n",
            "5631500400     10000     1.0           0     0          3      6         770   \n",
            "2487200875      5000     1.0           0     0          5      7        1050   \n",
            "1954400510      8080     1.0           0     0          3      8        1680   \n",
            "\n",
            "            sqft_basement  yr_built  yr_renovated  zipcode      lat     long  \\\n",
            "id                                                                             \n",
            "7129300520              0      1955             0    98178  47.5112 -122.257   \n",
            "6414100192            400      1951          1991    98125  47.7210 -122.319   \n",
            "5631500400              0      1933             0    98028  47.7379 -122.233   \n",
            "2487200875            910      1965             0    98136  47.5208 -122.393   \n",
            "1954400510              0      1987             0    98074  47.6168 -122.045   \n",
            "\n",
            "            sqft_living15  sqft_lot15  \n",
            "id                                     \n",
            "7129300520           1340        5650  \n",
            "6414100192           1690        7639  \n",
            "5631500400           2720        8062  \n",
            "2487200875           1360        5000  \n",
            "1954400510           1800        7503  \n"
          ]
        }
      ]
    },
    {
      "cell_type": "markdown",
      "metadata": {
        "id": "W9d2AclGXmZp"
      },
      "source": [
        "Chúng ta sẽ dùng biến sqft_living. Để vẽ biểu đồ (nối các chấm), chúng ta cần sắp xếp giá trị của sqft_living. Những ngôi nhà có diện tích giống nhau sẽ phân biệt theo giá. "
      ]
    },
    {
      "cell_type": "code",
      "metadata": {
        "id": "GNAYNfE1XmZs"
      },
      "source": [
        "full_data = full_data.sort_values(['sqft_living', 'price'])"
      ],
      "execution_count": null,
      "outputs": []
    },
    {
      "cell_type": "markdown",
      "metadata": {
        "id": "4gK3bzmoXmZv"
      },
      "source": [
        "Hãy bắt đầu với đa thức bậc 1 sử dụng 'sqft_living' (chẳng hạn 1 dòng) để dự đoán 'price' và vẽ biểu đồ xem nó trông như thế nào."
      ]
    },
    {
      "cell_type": "code",
      "metadata": {
        "id": "c9U3lbRdXmZx",
        "colab": {
          "base_uri": "https://localhost:8080/"
        },
        "outputId": "54ff230e-273f-453d-88fa-05c65491bbf4"
      },
      "source": [
        "poly1_data = polynomial_dataframe(full_data['sqft_living'], 1)\n",
        "poly1_data['price'] = full_data['price'] # add price to the data since it's the target\n",
        "print(poly1_data)"
      ],
      "execution_count": null,
      "outputs": [
        {
          "output_type": "stream",
          "name": "stdout",
          "text": [
            "            power_1      price\n",
            "id                            \n",
            "3980300371      290   142000.0\n",
            "2856101479      370   276000.0\n",
            "1723049033      380   245000.0\n",
            "1222029077      384   265000.0\n",
            "6896300380      390   228000.0\n",
            "...             ...        ...\n",
            "1924059029     9640  4668000.0\n",
            "9208900037     9890  6885000.0\n",
            "9808700762    10040  7062500.0\n",
            "6762700020    12050  7700000.0\n",
            "1225069038    13540  2280000.0\n",
            "\n",
            "[21613 rows x 2 columns]\n"
          ]
        }
      ]
    },
    {
      "cell_type": "markdown",
      "source": [],
      "metadata": {
        "id": "EYudAEH6a4FM"
      }
    },
    {
      "cell_type": "markdown",
      "metadata": {
        "id": "aK_CWgcpXmZ0"
      },
      "source": [
        "Đó là dữ liệu. Đã đến lúc tạo mô hình và thử với nó."
      ]
    },
    {
      "cell_type": "code",
      "metadata": {
        "id": "v4aHlNo4XmZ1",
        "colab": {
          "base_uri": "https://localhost:8080/"
        },
        "outputId": "d6f19d35-7cd2-4f72-c9c1-f97ef394ad83"
      },
      "source": [
        "from sklearn.linear_model import LinearRegression\n",
        "features_poly1 = np.reshape(poly1_data['power_1'].values, [-1, 1])\n",
        "# features_poly1 = poly1_data['power_1'].values\n",
        "print(features_poly1)\n",
        "labels_poly1 = poly1_data['price'].values\n",
        "model1 = LinearRegression().fit(features_poly1, labels_poly1)"
      ],
      "execution_count": null,
      "outputs": [
        {
          "output_type": "stream",
          "name": "stdout",
          "text": [
            "[[  290]\n",
            " [  370]\n",
            " [  380]\n",
            " ...\n",
            " [10040]\n",
            " [12050]\n",
            " [13540]]\n"
          ]
        }
      ]
    },
    {
      "cell_type": "code",
      "metadata": {
        "id": "4I3y-544XmZ6",
        "outputId": "ee3fe5dc-67ee-4735-bed8-a618b6c59142",
        "colab": {
          "base_uri": "https://localhost:8080/"
        }
      },
      "source": [
        "#hãy xem các trọng số trước khi vẽ biểu đồ\n",
        "model1.coef_"
      ],
      "execution_count": null,
      "outputs": [
        {
          "output_type": "execute_result",
          "data": {
            "text/plain": [
              "array([280.6235679])"
            ]
          },
          "metadata": {},
          "execution_count": 26
        }
      ]
    },
    {
      "cell_type": "code",
      "metadata": {
        "id": "1kzXyoaKXmZ-"
      },
      "source": [
        "import matplotlib.pyplot as plt\n",
        "%matplotlib inline"
      ],
      "execution_count": null,
      "outputs": []
    },
    {
      "cell_type": "code",
      "metadata": {
        "id": "xlqay1feXmaB",
        "outputId": "c5ff49da-8c6e-4544-b732-549d80adb5e0",
        "colab": {
          "base_uri": "https://localhost:8080/",
          "height": 311
        }
      },
      "source": [
        "plt.plot(poly1_data['power_1'],poly1_data['price'],'.',\n",
        "        poly1_data['power_1'], model1.predict(features_poly1),'-')"
      ],
      "execution_count": null,
      "outputs": [
        {
          "output_type": "execute_result",
          "data": {
            "text/plain": [
              "[<matplotlib.lines.Line2D at 0x7f03cb9ec650>,\n",
              " <matplotlib.lines.Line2D at 0x7f03c8a98f90>]"
            ]
          },
          "metadata": {},
          "execution_count": 28
        },
        {
          "output_type": "display_data",
          "data": {
            "text/plain": [
              "<Figure size 432x288 with 1 Axes>"
            ],
            "image/png": "[encoded data removed]"
          },
          "metadata": {
            "needs_background": "light"
          }
        }
      ]
    },
    {
      "cell_type": "markdown",
      "metadata": {
        "id": "WXGin2TtXmaF"
      },
      "source": [
        "Hãy giải nén lệnh plt.plot(). Cặp đầu tiên là lũy thừa bậc 1 của sqft và giá thực, sau đó yêu cầu in chúng thành các giá trị thứ ba ('.'). Cặp tiếp theo là lũy thừa bậc 1 của sqft và các giá trị dự đoán từ mô hình tuyến tính được vẽ thành một đường '-'.\n",
        "\n",
        "Không có gì ngạc nhiên khi giá trị dự đoán đều nằm trên một đường, đặc biệt là đường với slope 280 và intercept -43579. Sẽ ra sao nếu chúng ta muốn vẽ một bậc đa thức thứ hai?"
      ]
    },
    {
      "cell_type": "code",
      "metadata": {
        "id": "F6ql_JjRXmaL",
        "colab": {
          "base_uri": "https://localhost:8080/"
        },
        "outputId": "53cbf4d4-d490-457c-de34-837407e900da"
      },
      "source": [
        "poly2_data = polynomial_dataframe(full_data['sqft_living'], 2) # create polynomial up to 2 degree\n",
        "print(poly2_data)\n",
        "features_poly2 = poly2_data.values # extract the features immediately\n",
        "poly2_data['price'] = full_data['price']\n",
        "labels_poly2 = poly2_data['price'].values # receive the labels\n",
        "\n",
        "model2 = LinearRegression().fit(features_poly2, labels_poly2)"
      ],
      "execution_count": null,
      "outputs": [
        {
          "output_type": "stream",
          "name": "stdout",
          "text": [
            "            power_1  power_2\n",
            "id                          \n",
            "7129300520     1180  1392400\n",
            "6414100192     2570  6604900\n",
            "5631500400      770   592900\n",
            "2487200875     1960  3841600\n",
            "1954400510     1680  2822400\n",
            "...             ...      ...\n",
            "263000018      1530  2340900\n",
            "6600060120     2310  5336100\n",
            "1523300141     1020  1040400\n",
            "291310100      1600  2560000\n",
            "1523300157     1020  1040400\n",
            "\n",
            "[21613 rows x 2 columns]\n"
          ]
        }
      ]
    },
    {
      "cell_type": "code",
      "metadata": {
        "id": "QdOoASpPXmaQ",
        "outputId": "7b30afd9-f607-4977-e00c-cac092be281b",
        "colab": {
          "base_uri": "https://localhost:8080/"
        }
      },
      "source": [
        "model2.coef_"
      ],
      "execution_count": null,
      "outputs": [
        {
          "output_type": "execute_result",
          "data": {
            "text/plain": [
              "array([6.79940947e+01, 3.85812609e-02])"
            ]
          },
          "metadata": {},
          "execution_count": 30
        }
      ]
    },
    {
      "cell_type": "code",
      "metadata": {
        "id": "QJoEy5q9XmaS",
        "outputId": "e7f76d12-08a7-41df-83e1-47cc761838b8",
        "colab": {
          "base_uri": "https://localhost:8080/",
          "height": 311
        }
      },
      "source": [
        "plt.plot(poly2_data['power_1'],poly2_data['price'],'.',\n",
        "        poly2_data['power_1'], model2.predict(features_poly2),'-')"
      ],
      "execution_count": null,
      "outputs": [
        {
          "output_type": "execute_result",
          "data": {
            "text/plain": [
              "[<matplotlib.lines.Line2D at 0x7f03cb2cfb90>,\n",
              " <matplotlib.lines.Line2D at 0x7f03c84e2d10>]"
            ]
          },
          "metadata": {},
          "execution_count": 31
        },
        {
          "output_type": "display_data",
          "data": {
            "text/plain": [
              "<Figure size 432x288 with 1 Axes>"
            ],
            "image/png": "[encoded data removed]"
          },
          "metadata": {
            "needs_background": "light"
          }
        }
      ]
    },
    {
      "cell_type": "markdown",
      "metadata": {
        "id": "hK8wfPnvXmaV"
      },
      "source": [
        "Mô hình kết quả có dạng một nửa parabol. Thử với mô hình với bậc 3 xem nó trông thế nào:"
      ]
    },
    {
      "cell_type": "code",
      "metadata": {
        "id": "wKmFtrCmXmaW",
        "colab": {
          "base_uri": "https://localhost:8080/"
        },
        "outputId": "f90d441d-2aa6-49b9-9bee-c24c07b91528"
      },
      "source": [
        "# 1, 2, 3. Một lần nữa, Ctrl+C, Ctrl+V, chỉnh\n",
        "poly3_data = polynomial_dataframe(full_data['sqft_living'], 3) # create polynomial up to 2 degree\n",
        "print(poly3_data)\n",
        "features_poly3 = poly3_data.values # extract the features immediately\n",
        "poly3_data['price'] = full_data['price']\n",
        "labels_poly3 = poly3_data['price'].values # receive the labels\n",
        "\n",
        "model3 = LinearRegression().fit(features_poly3, labels_poly3)\n"
      ],
      "execution_count": null,
      "outputs": [
        {
          "output_type": "stream",
          "name": "stdout",
          "text": [
            "            power_1  power_2      power_3\n",
            "id                                       \n",
            "7129300520     1180  1392400   1643032000\n",
            "6414100192     2570  6604900  16974593000\n",
            "5631500400      770   592900    456533000\n",
            "2487200875     1960  3841600   7529536000\n",
            "1954400510     1680  2822400   4741632000\n",
            "...             ...      ...          ...\n",
            "263000018      1530  2340900   3581577000\n",
            "6600060120     2310  5336100  12326391000\n",
            "1523300141     1020  1040400   1061208000\n",
            "291310100      1600  2560000   4096000000\n",
            "1523300157     1020  1040400   1061208000\n",
            "\n",
            "[21613 rows x 3 columns]\n"
          ]
        }
      ]
    },
    {
      "cell_type": "code",
      "metadata": {
        "id": "tb_4ipMZXmaX",
        "colab": {
          "base_uri": "https://localhost:8080/",
          "height": 311
        },
        "outputId": "55ab92e9-7939-47a0-f688-a0de3e2171fc"
      },
      "source": [
        "# Hãy cẩn thận với thay thế của bạn\n",
        "plt.plot(poly3_data['power_1'],poly3_data['price'],'.',\n",
        "        poly3_data['power_1'], model3.predict(features_poly3),'-')"
      ],
      "execution_count": null,
      "outputs": [
        {
          "output_type": "execute_result",
          "data": {
            "text/plain": [
              "[<matplotlib.lines.Line2D at 0x7f03c848ee90>,\n",
              " <matplotlib.lines.Line2D at 0x7f03c848efd0>]"
            ]
          },
          "metadata": {},
          "execution_count": 35
        },
        {
          "output_type": "display_data",
          "data": {
            "text/plain": [
              "<Figure size 432x288 with 1 Axes>"
            ],
            "image/png": "[encoded data removed]"
          },
          "metadata": {
            "needs_background": "light"
          }
        }
      ]
    },
    {
      "cell_type": "markdown",
      "metadata": {
        "id": "dK6zHxUmXmaY"
      },
      "source": [
        "Giờ hãy thử đa thức bậc 15: "
      ]
    },
    {
      "cell_type": "code",
      "metadata": {
        "id": "uJflARQFXmaZ",
        "colab": {
          "base_uri": "https://localhost:8080/"
        },
        "outputId": "7b952590-2f6e-4679-909f-8dbb21eb36b6"
      },
      "source": [
        "# Có rất nhiều cột\n",
        "# 1, 2, 3. Một lần nữa, Ctrl+C, Ctrl+V, chỉnh\n",
        "poly15_data = polynomial_dataframe(full_data['sqft_living'], 15) # create polynomial up to 2 degree\n",
        "print(poly15_data)\n",
        "features_poly15 = poly15_data.values # extract the features immediately\n",
        "print(features_poly15)\n",
        "poly15_data['price'] = full_data['price']\n",
        "labels_poly15 = poly15_data['price'].values # receive the labels\n",
        "\n",
        "model15 = LinearRegression().fit(features_poly15, labels_poly15)"
      ],
      "execution_count": null,
      "outputs": [
        {
          "output_type": "stream",
          "name": "stdout",
          "text": [
            "            power_1  power_2      power_3         power_4             power_5  \\\n",
            "id                                                                              \n",
            "7129300520     1180  1392400   1643032000   1938777760000    2287757756800000   \n",
            "6414100192     2570  6604900  16974593000  43624704010000  112115489305700000   \n",
            "5631500400      770   592900    456533000    351530410000     270678415700000   \n",
            "2487200875     1960  3841600   7529536000  14757890560000   28925465497600000   \n",
            "1954400510     1680  2822400   4741632000   7965941760000   13382782156800000   \n",
            "...             ...      ...          ...             ...                 ...   \n",
            "263000018      1530  2340900   3581577000   5479812810000    8384113599300000   \n",
            "6600060120     2310  5336100  12326391000  28473963210000   65774855015100000   \n",
            "1523300141     1020  1040400   1061208000   1082432160000    1104080803200000   \n",
            "291310100      1600  2560000   4096000000   6553600000000   10485760000000000   \n",
            "1523300157     1020  1040400   1061208000   1082432160000    1104080803200000   \n",
            "\n",
            "                        power_6              power_7              power_8  \\\n",
            "id                                                                          \n",
            "7129300520  2699554153024000000 -5812824183432429568  3056258969686310912   \n",
            "6414100192 -7011097663703825856  3947964295399478912   558998636407415040   \n",
            "5631500400   208422380089000000 -5535463994855964544 -1109395012186275584   \n",
            "2487200875  1353680154167345152 -3118044446178934784 -5494826112850591744   \n",
            "1954400510  4036329949714448384 -7367503604841709568   359217325037060096   \n",
            "...                         ...                  ...                  ...   \n",
            "263000018  -5619050266780551616  -964169825592919424   559692739597410560   \n",
            "6600060120  4365962495204587072 -4995644396528597632  7723234161118781696   \n",
            "1523300141  1126162419264000000  4987535079287799808 -4015583470280441856   \n",
            "291310100  -1669528073709551616  3532972752602398720  8052717608715157504   \n",
            "1523300157  1126162419264000000  4987535079287799808 -4015583470280441856   \n",
            "\n",
            "                        power_9             power_10             power_11  \\\n",
            "id                                                                          \n",
            "7129300520 -9176254217225240576   258794941722918912 -8216618020018061312   \n",
            "6414100192 -2219542182288373248 -4179489704867798016 -5283490611281860608   \n",
            "5631500400 -5683931992792825344 -4749288981311781888 -4497189015580833792   \n",
            "2487200875  3039357859218325504 -1156931740267184128  1363310142593957888   \n",
            "1954400510 -5257448370154242048  3477149447748583424 -6006799148307709952   \n",
            "...                         ...                  ...                  ...   \n",
            "263000018   7779664193398782464  4736288357476377600 -3049234028996057088   \n",
            "6600060120  2669392907249305088  5085095126904513536 -4006231803558111232   \n",
            "1523300141  -717955322530234368  5555333967543009280  3290216265037119488   \n",
            "291310100   8520810494984978432  1152921504606846976                    0   \n",
            "1523300157  -717955322530234368  5555333967543009280  3290216265037119488   \n",
            "\n",
            "                       power_12             power_13             power_14  \\\n",
            "id                                                                          \n",
            "7129300520  7378119149911801856  -682605894982172672  6181783164256518144   \n",
            "6414100192 -1767232744151773184 -3889110337507385344  3121720556596641792   \n",
            "5631500400  5152343860153683968  1254796470783057920  6962590670057914368   \n",
            "2487200875 -2690011203727523840  3346845774985035776 -7223171269930254336   \n",
            "1954400510 -1053560837827985408   905223525101469696  8142508126285856768   \n",
            "...                         ...                  ...                  ...   \n",
            "263000018   1698186284549214208 -2765899032749039616 -7521127226543292416   \n",
            "6600060120  5870058782957965312  1478894456379432960  3598540600223088640   \n",
            "1523300141 -1286831077276516352 -2848869588668514304  8738583204224565248   \n",
            "291310100                     0                    0                    0   \n",
            "1523300157 -1286831077276516352 -2848869588668514304  8738583204224565248   \n",
            "\n",
            "                       power_15  \n",
            "id                               \n",
            "7129300520  8040224707418521600  \n",
            "6414100192 -1511841610285547520  \n",
            "5631500400 -6807709504885456896  \n",
            "2487200875 -8762984528072409088  \n",
            "1954400510 -8070450532247928832  \n",
            "...                         ...  \n",
            "263000018   3443645383522811904  \n",
            "6600060120 -6852790727673020416  \n",
            "1523300141  3577480707343122432  \n",
            "291310100                     0  \n",
            "1523300157  3577480707343122432  \n",
            "\n",
            "[21613 rows x 15 columns]\n",
            "[[                1180              1392400           1643032000 ...\n",
            "   -682605894982172672  6181783164256518144  8040224707418521600]\n",
            " [                2570              6604900          16974593000 ...\n",
            "  -3889110337507385344  3121720556596641792 -1511841610285547520]\n",
            " [                 770               592900            456533000 ...\n",
            "   1254796470783057920  6962590670057914368 -6807709504885456896]\n",
            " ...\n",
            " [                1020              1040400           1061208000 ...\n",
            "  -2848869588668514304  8738583204224565248  3577480707343122432]\n",
            " [                1600              2560000           4096000000 ...\n",
            "                     0                    0                    0]\n",
            " [                1020              1040400           1061208000 ...\n",
            "  -2848869588668514304  8738583204224565248  3577480707343122432]]\n"
          ]
        }
      ]
    },
    {
      "cell_type": "code",
      "metadata": {
        "id": "m4-23iRYXmaa",
        "colab": {
          "base_uri": "https://localhost:8080/",
          "height": 311
        },
        "outputId": "d5355a5a-6bb4-41b4-dff0-51f65223b294"
      },
      "source": [
        "# Ctrl+H có thể không ổn nếu bạn không copy từ cell tốt hơn\n",
        "plt.plot(poly15_data['power_1'],poly15_data['price'],'.',\n",
        "        poly15_data['power_1'], model15.predict(features_poly15),'-')"
      ],
      "execution_count": null,
      "outputs": [
        {
          "output_type": "execute_result",
          "data": {
            "text/plain": [
              "[<matplotlib.lines.Line2D at 0x7f03c837cd90>,\n",
              " <matplotlib.lines.Line2D at 0x7f03c837ced0>]"
            ]
          },
          "metadata": {},
          "execution_count": 38
        },
        {
          "output_type": "display_data",
          "data": {
            "text/plain": [
              "<Figure size 432x288 with 1 Axes>"
            ],
            "image/png": "[encoded data removed]"
          },
          "metadata": {
            "needs_background": "light"
          }
        }
      ]
    },
    {
      "cell_type": "markdown",
      "metadata": {
        "id": "VYhIEsLyXmac"
      },
      "source": [
        "Đa thức bậc 15 như thế nào? Nó có thích hợp không? Nếu chúng ta thay đổi dữ liệu thì có được đường cong cũng tương tự không? Hãy xem kết quả."
      ]
    },
    {
      "cell_type": "markdown",
      "metadata": {
        "id": "kTgHc7GSXmae"
      },
      "source": [
        "## Thay đổi dữ liệu và học lại"
      ]
    },
    {
      "cell_type": "markdown",
      "metadata": {
        "id": "OV0xJEYiXmag"
      },
      "source": [
        "Chúng ta sẽ chia dữ liệu bán hàng thành 4 tập con có kích thước tương tự nhau. Sau đó ước tính một mô hình đa thức bậc 15 cho cả 4 tập con dữ liệu. In ra các hệ số (nên dùng `.coef_` để truy cập các tham số của mô hình) và vẽ biểu đồ kết quả khớp (đã thực hiện phía trên). Quiz sẽ hỏi về các kết quả này.\n",
        "\n",
        "Để chia dữ liệu bán hàng thành 4 tập con, chúng ta thực hiện như sau:\n",
        "* Đầu tiên, chia full_data thành 2 tập con với `train_test_split(full_data, train_size=0.5, test_size=0.5 seed=0)`. \n",
        "* Tiếp theo chia mỗi tập con kết quả thành 2 tập con nữa với `train_test_split(big_set_?, train_size=0.5, test_size=0.5, random_state=0)`.\n",
        "\n",
        "Chúng ta thiết lập `seed=0` trong các bước này để những người dùng khác nhau sẽ được các kết quả thống nhất. \n",
        "Chúng ta nên kết thúc với 4 tập con (`set_1`, `set_2`, `set_3`, `set_4`) có kích thước xấp xỉ nhau. "
      ]
    },
    {
      "cell_type": "code",
      "metadata": {
        "id": "76dnOPQyXmai"
      },
      "source": [
        "from sklearn.model_selection import train_test_split\n",
        "big_set_1, big_set_2 = train_test_split(full_data, train_size=0.5, test_size=0.5, random_state=0)\n",
        "set_1, set_2 = train_test_split(big_set_1, train_size=0.5, test_size=0.5, random_state=0)\n",
        "set_3, set_4 = train_test_split(big_set_2, train_size=0.5, test_size=0.5, random_state=0)"
      ],
      "execution_count": null,
      "outputs": []
    },
    {
      "cell_type": "markdown",
      "metadata": {
        "id": "t1Cd3dVqXmaj"
      },
      "source": [
        "**test_size=0.5 có cần thiết không?**"
      ]
    },
    {
      "cell_type": "markdown",
      "metadata": {
        "id": "cKMuQHHjXmal"
      },
      "source": [
        "Khớp đa thức bậc 15 vào set_1, set_2, set_3, và set_4 sử dụng sqft_living để đoán giá. Vẽ biểu đồ mô hình kết quả (in các hệ số cho 'power_1' nếu muốn). "
      ]
    },
    {
      "cell_type": "code",
      "metadata": {
        "id": "IO8ZR3zHXmam",
        "colab": {
          "base_uri": "https://localhost:8080/",
          "height": 311
        },
        "outputId": "bf87743e-6b3b-41f0-f29b-91b38b53a996"
      },
      "source": [
        "# Bạn có thể vẽ mô hình ở đây\n",
        "poly15_data_1 = polynomial_dataframe(set_1['sqft_living'], 15) # create polynomial up to 2 degree\n",
        "features_poly15_1 = poly15_data_1.values # extract the features immediately\n",
        "poly15_data_1['price'] = set_1['price']\n",
        "labels_poly15_1 = poly15_data_1['price'].values\n",
        "model15_1 = LinearRegression().fit(features_poly15_1, labels_poly15_1)\n",
        "plt.plot(poly15_data_1['power_1'],poly15_data_1['price'],'.',\n",
        "        poly15_data_1['power_1'], model15_1.predict(features_poly15_1),'-')"
      ],
      "execution_count": null,
      "outputs": [
        {
          "output_type": "execute_result",
          "data": {
            "text/plain": [
              "[<matplotlib.lines.Line2D at 0x7f03c8193690>,\n",
              " <matplotlib.lines.Line2D at 0x7f03c8141310>]"
            ]
          },
          "metadata": {},
          "execution_count": 53
        },
        {
          "output_type": "display_data",
          "data": {
            "text/plain": [
              "<Figure size 432x288 with 1 Axes>"
            ],
            "image/png": "[encoded data removed]"
          },
          "metadata": {
            "needs_background": "light"
          }
        }
      ]
    },
    {
      "cell_type": "code",
      "metadata": {
        "id": "1YnoUHoLXmao",
        "colab": {
          "base_uri": "https://localhost:8080/",
          "height": 450
        },
        "outputId": "0f43c0c1-4a4d-4d79-e293-8ddc0a7a2b01"
      },
      "source": [
        "# Sau đó copy cho cả 4\n",
        "poly15_data_2 = polynomial_dataframe(set_2['sqft_living'], 15) # create polynomial up to 2 degree\n",
        "features_poly15_2 = poly15_data_2.values # extract the features immediately\n",
        "poly15_data_2['price'] = set_2['price']\n",
        "labels_poly15_2 = poly15_data_2['price'].values\n",
        "model15_2 = LinearRegression().fit(features_poly15_2, labels_poly15_2)\n",
        "plt.plot(poly15_data_2['power_1'],poly15_data_2['price'],'.',\n",
        "        poly15_data_2['power_1'], model15_2.predict(features_poly15_2),'-')\n",
        "\n",
        "poly15_data_3 = polynomial_dataframe(set_3['sqft_living'], 15) # create polynomial up to 2 degree\n",
        "features_poly15_3 = poly15_data_3.values # extract the features immediately\n",
        "poly15_data_3['price'] = set_3['price']\n",
        "labels_poly15_3 = poly15_data_3['price'].values\n",
        "model15_3 = LinearRegression().fit(features_poly15_3, labels_poly15_3)\n",
        "plt.plot(poly15_data_3['power_1'],poly15_data_3['price'],'.',\n",
        "        poly15_data_3['power_1'], model15_3.predict(features_poly15_3),'-')\n",
        "\n",
        "poly15_data_4 = polynomial_dataframe(set_4['sqft_living'], 15) # create polynomial up to 2 degree\n",
        "features_poly15_4 = poly15_data_4.values # extract the features immediately\n",
        "poly15_data_4['price'] = set_4['price']\n",
        "labels_poly15_4 = poly15_data_4['price'].values\n",
        "model15_4 = LinearRegression().fit(features_poly15_4, labels_poly15_4)\n",
        "plt.plot(poly15_data_4['power_1'],poly15_data_4['price'],'.',\n",
        "        poly15_data_4['power_1'], model15_4.predict(features_poly15_4),'-')\n",
        "print('---')\n",
        "print(model15_1.coef_)\n",
        "print('---')\n",
        "print(model15_2.coef_)\n",
        "\n"
      ],
      "execution_count": null,
      "outputs": [
        {
          "output_type": "stream",
          "name": "stdout",
          "text": [
            "---\n",
            "[ 2.09004642e-05  4.49437577e-02  2.56934747e-06 -2.93001250e-10\n",
            "  8.88178420e-16 -3.19189120e-16 -4.05925293e-16  3.22658567e-16\n",
            " -1.13624388e-16  1.71737624e-16 -3.03142927e-16  1.46584134e-16\n",
            "  4.18935719e-16 -1.04083409e-15 -5.13478149e-16]\n",
            "---\n",
            "[ 1.65177802e-05  4.05919342e-02  6.71213063e-06 -6.67597030e-10\n",
            " -5.30270272e-14 -1.80411242e-16  2.76688394e-16 -3.46944695e-16\n",
            " -1.23165367e-16 -5.49907342e-16  6.53557070e-16  1.20650018e-15\n",
            "  1.36956418e-15 -7.57206797e-16  1.42247325e-16]\n"
          ]
        },
        {
          "output_type": "display_data",
          "data": {
            "text/plain": [
              "<Figure size 432x288 with 1 Axes>"
            ],
            "image/png": "[encoded data removed]"
          },
          "metadata": {
            "needs_background": "light"
          }
        }
      ]
    },
    {
      "cell_type": "code",
      "metadata": {
        "id": "t_0DbTBIXmap"
      },
      "source": [
        "# Hoặc thực hiện tất cả một lúc"
      ],
      "execution_count": null,
      "outputs": []
    },
    {
      "cell_type": "code",
      "metadata": {
        "id": "ikBpnveRXmaq"
      },
      "source": [
        "# nếu biết lặp, subplot và axes"
      ],
      "execution_count": null,
      "outputs": []
    },
    {
      "cell_type": "markdown",
      "metadata": {
        "id": "ihdVUiBCXmar"
      },
      "source": [
        "\n",
        "**Quiz: Dấu (dương hoặc âm) của power_15 có tương tự ở cả 4 mô hình không??**\n",
        "\n",
        "**Quiz: (Đúng/Sai) Đồ thị khớp đã vẽ trông tương tự nhau ở cả 4 mô hình.**"
      ]
    },
    {
      "cell_type": "markdown",
      "metadata": {
        "id": "Ai1VdJaeXmas"
      },
      "source": [
        "# Chọn bậc đa thức"
      ]
    },
    {
      "cell_type": "markdown",
      "metadata": {
        "id": "QlntTwSZXmau"
      },
      "source": [
        "Khi có tham số như bậc của đa thức, có một cách để lựa chọn các tham số này, đó là tập kiểm định. (Chúng ta sẽ khám phá một phương pháp khác sau).\n",
        "\n",
        "Chúng ta chia tập dữ liệu bán hàng thành tập huấn luyện, tập kiểm tra và tập kiểm đinh như sau:\n",
        "\n",
        "* Chia dữ liệu bán hàng thành 2 tập: `train_and_validation` và `test_data`. Sử dụng `train_test_split`.\n",
        "* Tiếp tục chia tập huấn luyện thành 2 tập: `train_data` và `validation_data`. Sử dụng `train_test_split`.\n",
        "\n",
        "Lần này, chúng ta sẽ thiết lập `random_state=1` để những người dùng có khác nhau có kết quả thống nhất."
      ]
    },
    {
      "cell_type": "code",
      "metadata": {
        "id": "VmJRLKMeXmaw"
      },
      "source": [
        "# Không cần import, trừ khi không chạy split phía trên\n",
        "train_and_validation, test_data = train_test_split(full_data,train_size=0.5, test_size=0.5, random_state=1)\n",
        "train_data, validation_data = train_test_split(train_and_validation,train_size=0.5, test_size=0.5, random_state=1)"
      ],
      "execution_count": null,
      "outputs": []
    },
    {
      "cell_type": "markdown",
      "metadata": {
        "id": "JPsMwrgrXmay"
      },
      "source": [
        "Tiếp theo, chúng ta sẽ viết một vòng lặp như sau:\n",
        "* Với bậc [1, 2, 3, 4, 5, 6, 7, 8, 9, 10, 11, 12, 13, 14, 15] (để nhận trong python, sử dụng `range(1, 15+1)` tích hợp sẵn)\n",
        "    * Xây DataFrame của dữ liệu đa thức có train_data['sqft_living'] ở bậc hiện tại <br>\n",
        "    *Gợi ý:* DataFrame giữ cho `.values` thống nhất với thứ tự cột\n",
        "    * Load các nhãn của train_data\n",
        "    * Tìm hiểu mô hình hồi quy đa thức 'sqft' -> 'price' với bậc đó trong dữ liệu HUẤN LUYỆN \n",
        "    * Tính RSS trong dữ liệu KIỂM ĐỊNH (ở đây sẽ sử dụng `.predict()`) cho các bậc đó. Chúng ta sẽ cần áp dụng tất cả các bước trên vào tập kiểm định.\n",
        "* Báo lại bậc nào có RSS thấp nhất trong dữ liệu kiểm định (chỉ mục python từ 0)."
      ]
    },
    {
      "cell_type": "code",
      "metadata": {
        "id": "Z1uE68OtXmaz",
        "colab": {
          "base_uri": "https://localhost:8080/"
        },
        "outputId": "a7bf733d-8009-448a-8ee7-b73d24ee592a"
      },
      "source": [
        "# Đọc hướng dẫn và tiến hành. Chúng ta có thể loại một số giá trị ra khỏi vòng lặp\n",
        "list_rss = list()\n",
        "for power in range(1,15+1):\n",
        "  poly15_data_2 = polynomial_dataframe(train_data['sqft_living'], power)\n",
        "  features_poly15_2 = poly15_data_2.values\n",
        "  poly15_data_2['price'] = train_data['price']\n",
        "  labels_poly15_2 = poly15_data_2['price'].values\n",
        "  model15_2 = LinearRegression().fit(features_poly15_2, labels_poly15_2)\n",
        "  predicted = model15_2.predict(features_poly15_2)\n",
        "  rss = sum((predicted-labels_poly15_2)**2)\n",
        "  list_rss.append(rss)\n",
        "print(list_rss)\n",
        "print(min(list_rss))\n",
        "print(list_rss.index(min(list_rss)))"
      ],
      "execution_count": null,
      "outputs": [
        {
          "output_type": "stream",
          "name": "stdout",
          "text": [
            "[352358835017741.4, 319232894355493.75, 319008711442510.06, 319006219495921.3, 317252871670449.8, 317224954899902.3, 317086446558690.44, 316824342299108.44, 316765129162262.06, 316718118566089.25, 316645941817868.75, 316644394680807.5, 316644374330488.25, 316639507347587.25, 316532544180920.25]\n",
            "316532544180920.25\n",
            "14\n"
          ]
        }
      ]
    },
    {
      "cell_type": "markdown",
      "metadata": {
        "id": "J7SBt7LAXma2"
      },
      "source": [
        "**Quiz: Bậc nào (1, 2, …, 15) có RSS thấp nhất trong dữ liệu KIỂM ĐỊNH?**"
      ]
    },
    {
      "cell_type": "markdown",
      "metadata": {
        "id": "koQpGs03Xma5"
      },
      "source": [
        "Chúng ta đã chọn bậc của đa thức sử dụng dữ liệu kiểm định, hãy tính RSS của mô hình này trong dữ liệu KIỂM TRA. Báo cáo RSS trong quiz."
      ]
    },
    {
      "cell_type": "code",
      "metadata": {
        "id": "N77axvQGXma9",
        "colab": {
          "base_uri": "https://localhost:8080/"
        },
        "outputId": "429965cb-a1fa-4a6a-e56a-8c0f02e29e42"
      },
      "source": [
        "# Mức độ trợ giúp: thấp\n",
        "# Đọc hướng dẫn và tiến hành. Chúng ta có thể loại một số giá trị ra khỏi vòng lặp\n",
        "list_rss = list()\n",
        "for power in range(1,15+1):\n",
        "  poly15_data_2 = polynomial_dataframe(test_data['sqft_living'], power)\n",
        "  features_poly15_2 = poly15_data_2.values\n",
        "  poly15_data_2['price'] = test_data['price']\n",
        "  labels_poly15_2 = poly15_data_2['price'].values\n",
        "  model15_2 = LinearRegression().fit(features_poly15_2, labels_poly15_2)\n",
        "  predicted = model15_2.predict(features_poly15_2)\n",
        "  rss = sum((predicted-labels_poly15_2)**2)\n",
        "  list_rss.append(rss)\n",
        "print(list_rss)\n",
        "print(min(list_rss))\n",
        "print(list_rss.index(min(list_rss)))"
      ],
      "execution_count": null,
      "outputs": [
        {
          "output_type": "stream",
          "name": "stdout",
          "text": [
            "[771456580944622.5, 719789805731830.0, 705420259213980.1, 700970573194650.8, 702159700702259.0, 702154724805063.5, 702116681551928.9, 702034630191054.8, 701967883738165.4, 701891496588582.0, 701835487736264.5, 701277863361708.8, 701072460134356.5, 701037856745620.5, 700989691526682.5]\n",
            "700970573194650.8\n",
            "3\n"
          ]
        }
      ]
    },
    {
      "cell_type": "markdown",
      "metadata": {
        "id": "-ZZKDRXFXmbD"
      },
      "source": [
        "**Quiz: RSS trong dữ liệu KIỂM TRA cho mô hình với bậc được chọn từ dữ liệu KIỂM ĐỊNH là?**\n",
        "Khác nhau, điều này cho thấy rằng : bậc cao sẽ làm loss thấp khi trên. ( bậc càng cao loss càng thấp. Tuy nhiên khi test thì bậc 3 lại cho loss thấp nhất.\n"
      ]
    },
    {
      "cell_type": "code",
      "metadata": {
        "id": "CAr_NGq9XmbE"
      },
      "source": [],
      "execution_count": null,
      "outputs": []
    }
  ]
}